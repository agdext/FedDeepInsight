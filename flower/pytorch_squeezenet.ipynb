{
 "cells": [
  {
   "cell_type": "markdown",
   "metadata": {
    "id": "Ykl24zvFPaIL"
   },
   "source": [
    "# DeepInsight SqueezeNet Example\n",
    "\n",
    "This example shows a case of using the output of\n",
    "pyDeepInsight.ImageTransformer to train a SqueezeNet model\n",
    "using PyTorch. This follows the general approach used in the\n",
    "original DeepInsight paper."
   ]
  },
  {
   "cell_type": "code",
   "execution_count": null,
   "metadata": {},
   "outputs": [],
   "source": [
    "# !pip install torch"
   ]
  },
  {
   "cell_type": "markdown",
   "metadata": {
    "id": "39Bs2NrxPaIO"
   },
   "source": [
    "## DeepInsight"
   ]
  },
  {
   "cell_type": "code",
   "execution_count": 3,
   "metadata": {
    "colab": {
     "base_uri": "https://localhost:8080/"
    },
    "id": "SACKo4eAOtcS",
    "outputId": "468d95b8-22b8-4798-b4b1-d6bdcf01ee1a"
   },
   "outputs": [
    {
     "name": "stdout",
     "output_type": "stream",
     "text": [
      "GPU is not available. Using CPU.\n",
      "Current device: cpu\n"
     ]
    }
   ],
   "source": [
    "import torch\n",
    "\n",
    "# Check if GPU is available\n",
    "if torch.cuda.is_available():\n",
    "    device = torch.device(\"cuda\")\n",
    "    print(\"GPU is available. Using GPU.\")\n",
    "else:\n",
    "    device = torch.device(\"cpu\")\n",
    "    print(\"GPU is not available. Using CPU.\")\n",
    "\n",
    "# Display the current device\n",
    "print(f\"Current device: {device}\")\n"
   ]
  },
  {
   "cell_type": "code",
   "execution_count": 4,
   "metadata": {
    "colab": {
     "base_uri": "https://localhost:8080/"
    },
    "id": "QHOW-rgTQotF",
    "outputId": "ba9cdc7a-c718-42a8-cb58-585875544b9b"
   },
   "outputs": [],
   "source": [
    "!python3 -m pip -q install git+https://github.com/alok-ai-lab/pyDeepInsight.git\n"
   ]
  },
  {
   "cell_type": "code",
   "execution_count": 5,
   "metadata": {
    "id": "W8Dr3UnEPaIP",
    "scrolled": true
   },
   "outputs": [],
   "source": [
    "from pyDeepInsight import ImageTransformer\n",
    "from pyDeepInsight.utils import Norm2Scaler\n",
    "from sklearn.model_selection import train_test_split\n",
    "from sklearn.preprocessing import LabelEncoder\n",
    "from sklearn.manifold import TSNE\n",
    "from sklearn.decomposition import PCA\n",
    "import pandas as pd\n",
    "import numpy as np\n",
    "import matplotlib.pyplot as plt"
   ]
  },
  {
   "cell_type": "markdown",
   "metadata": {
    "id": "LO04-xxYPaIQ"
   },
   "source": [
    "Load example csv data and split into training and testing sets"
   ]
  },
  {
   "cell_type": "markdown",
   "metadata": {
    "id": "OXy1n0IQSxfb"
   },
   "source": [
    "View path"
   ]
  },
  {
   "cell_type": "code",
   "execution_count": 6,
   "metadata": {},
   "outputs": [
    {
     "name": "stdout",
     "output_type": "stream",
     "text": [
      "/Users/allan/Desktop/flower\n"
     ]
    }
   ],
   "source": [
    "!pwd"
   ]
  },
  {
   "cell_type": "code",
   "execution_count": 7,
   "metadata": {},
   "outputs": [
    {
     "name": "stdout",
     "output_type": "stream",
     "text": [
      "\u001b[34mCOVID-19_Radiography_Dataset\u001b[m\u001b[m cancer.csv\n",
      "\u001b[34mCOVID19-BIG\u001b[m\u001b[m                  cancer_synthetic.csv\n",
      "COVID19-BIG.zip              cancer_test.csv\n",
      "\u001b[34mCovid19-dataset\u001b[m\u001b[m              cancer_test_headers.csv\n",
      "\u001b[34mCovid19-test\u001b[m\u001b[m                 higgs.zip\n",
      "HIGGS.csv                    stroke.csv\n",
      "\u001b[31mHIGGS.csv.gz\u001b[m\u001b[m                 stroke_2024.csv\n",
      "HIGGS_test.csv               stroke_balanced.csv\n",
      "Iris.csv                     stroke_balancedH.csv\n",
      "Iris_headers.csv             stroke_test.csv\n",
      "Iris_test.csv\n"
     ]
    }
   ],
   "source": [
    "!ls /Users/allan/dataset/"
   ]
  },
  {
   "cell_type": "code",
   "execution_count": 8,
   "metadata": {
    "id": "17beSelNPaIQ"
   },
   "outputs": [],
   "source": [
    "# Load your CSV data\n",
    "# data = pd.read_csv('/gpfs/home4/aduah/flower/dataset/cancer_test_headers.csv')\n",
    "data = pd.read_csv('/Users/allan/dataset/cancer_synthetic.csv')\n",
    "\n",
    "\n",
    "# Assuming the first column is the target, separate features and target\n",
    "X = data.iloc[:, 1:].values #take values\n",
    "y = data.iloc[:, 0].values\n",
    "\n",
    "X_train, X_test, y_train, y_test = train_test_split(\n",
    "    X, y, test_size=0.2, random_state=7854)"
   ]
  },
  {
   "cell_type": "code",
   "execution_count": 9,
   "metadata": {},
   "outputs": [],
   "source": [
    "# # Load your CSV data\n",
    "# data = pd.read_csv('/gpfs/home4/aduah/flower/dataset/stroke_balancedH.csv')\n",
    "# # data = pd.read_csv('/Users/allan/dataset/stroke_balancedH.csv')\n",
    "\n",
    "\n",
    "# # Assuming the first column is the target, separate features and target\n",
    "# X = data.iloc[7500:, 1:].values #take values\n",
    "# y = data.iloc[7500:, 0].values\n",
    "\n",
    "# X_train, X_test, y_train, y_test = train_test_split(\n",
    "#     X, y, test_size=0.2, random_state=42)"
   ]
  },
  {
   "cell_type": "code",
   "execution_count": 10,
   "metadata": {
    "colab": {
     "base_uri": "https://localhost:8080/"
    },
    "id": "M8gFf3zgPaIQ",
    "outputId": "b4adefef-baba-4477-fa0b-454185b2eaf9"
   },
   "outputs": [
    {
     "data": {
      "text/plain": [
       "(array([0, 1]), array([357, 357]))"
      ]
     },
     "execution_count": 10,
     "metadata": {},
     "output_type": "execute_result"
    }
   ],
   "source": [
    "np.unique(y, return_counts=True)"
   ]
  },
  {
   "cell_type": "markdown",
   "metadata": {
    "id": "bQ5wyMpzPaIR"
   },
   "source": [
    "Normalize data using LogScaler and encode classes"
   ]
  },
  {
   "cell_type": "code",
   "execution_count": 13,
   "metadata": {
    "id": "AOVJqMAFPaIS"
   },
   "outputs": [],
   "source": [
    "ln = Norm2Scaler()\n",
    "X_train_norm = ln.fit_transform(X_train)\n",
    "X_test_norm = ln.transform(X_test)"
   ]
  },
  {
   "cell_type": "code",
   "execution_count": 14,
   "metadata": {
    "id": "P6ka7ZOGPaIS"
   },
   "outputs": [],
   "source": [
    "le = LabelEncoder()\n",
    "y_train_enc = le.fit_transform(y_train)\n",
    "y_test_enc = le.transform(y_test)\n",
    "num_classes = np.unique(y_train_enc).size #IMPORTANT VAR!!----"
   ]
  },
  {
   "cell_type": "markdown",
   "metadata": {},
   "source": [
    "### CHANGE PERPLEXITY"
   ]
  },
  {
   "cell_type": "markdown",
   "metadata": {
    "id": "t1aRaaVrPaIS"
   },
   "source": [
    "Create t-SNE object"
   ]
  },
  {
   "cell_type": "code",
   "execution_count": 15,
   "metadata": {},
   "outputs": [],
   "source": [
    "#CHANGE perplexity THIS!!!!!!!!!\n",
    "perplexity=29 #should be less than n_features\n",
    "random_state =42"
   ]
  },
  {
   "cell_type": "code",
   "execution_count": 16,
   "metadata": {
    "id": "rC_webE_PaIS"
   },
   "outputs": [],
   "source": [
    "from sklearn.decomposition import PCA\n",
    "\n",
    "distance_metric = 'cosine'\n",
    "reducer = TSNE(\n",
    "    n_components=2,\n",
    "    metric=distance_metric,\n",
    "    init='random', \n",
    "    learning_rate='auto',\n",
    "    n_jobs=-1,\n",
    "    perplexity=perplexity, # should be less than n_features\n",
    "    random_state = random_state\n",
    ")\n",
    "reducer =  PCA(n_components=2,     \n",
    "              random_state = random_state\n",
    ")"
   ]
  },
  {
   "cell_type": "markdown",
   "metadata": {
    "id": "8_m_IDA-PaIT"
   },
   "source": [
    "Initialize image transformer."
   ]
  },
  {
   "cell_type": "code",
   "execution_count": 17,
   "metadata": {
    "id": "DZSoTBTlPaIT"
   },
   "outputs": [],
   "source": [
    "pixel_size = (227,227)\n",
    "it = ImageTransformer(\n",
    "    feature_extractor=reducer,\n",
    "    pixels=pixel_size)"
   ]
  },
  {
   "cell_type": "markdown",
   "metadata": {
    "id": "AYIPsh0PPaIT"
   },
   "source": [
    "Train image transformer on training data and transform training\n",
    "and testing sets. Values should be between 0 and 1."
   ]
  },
  {
   "cell_type": "code",
   "execution_count": 18,
   "metadata": {
    "colab": {
     "base_uri": "https://localhost:8080/"
    },
    "id": "C6HqyQehPaIT",
    "outputId": "80ab2692-4d27-48ab-ff02-6c57c6ba0b6a"
   },
   "outputs": [
    {
     "name": "stdout",
     "output_type": "stream",
     "text": [
      "PCA(n_components=2, random_state=42)\n",
      "[[0.3773612  0.40082944 0.5982725  ... 0.00877297 0.04357537 0.01465109]\n",
      " [0.37901264 0.38877594 0.60072362 ... 0.01259355 0.04641992 0.01338684]\n",
      " [0.39603106 0.42085816 0.62105626 ... 0.01721626 0.04131713 0.0151954 ]\n",
      " ...\n",
      " [0.367676   0.42490379 0.58884863 ... 0.01388562 0.04566671 0.0168256 ]\n",
      " [0.40296438 0.42746698 0.62842904 ... 0.01924487 0.04750802 0.01678307]\n",
      " [0.40394894 0.43112443 0.6295572  ... 0.0177345  0.0452294  0.01506171]]\n"
     ]
    }
   ],
   "source": [
    "print(reducer)\n",
    "print(X_train_norm)"
   ]
  },
  {
   "cell_type": "code",
   "execution_count": 19,
   "metadata": {
    "colab": {
     "base_uri": "https://localhost:8080/",
     "height": 430
    },
    "id": "4SyxCsh1PaIT",
    "outputId": "ec20c46b-ed03-4728-adbc-be2f622d408a"
   },
   "outputs": [
    {
     "data": {
      "image/png": "[encoded data removed]",
      "text/plain": [
       "<Figure size 640x480 with 1 Axes>"
      ]
     },
     "metadata": {},
     "output_type": "display_data"
    }
   ],
   "source": [
    "%matplotlib inline\n",
    "it.fit(X_train_norm, y=y_train, plot=True)\n",
    "X_train_img = it.transform(X_train_norm)\n",
    "X_test_img = it.transform(X_test_norm)"
   ]
  },
  {
   "cell_type": "markdown",
   "metadata": {
    "id": "LO9QY5j-PaIT"
   },
   "source": [
    "The feature density matrix can be extracted from the trained transformer in order to view overall feature overlap."
   ]
  },
  {
   "cell_type": "code",
   "execution_count": 20,
   "metadata": {
    "id": "7xmX6zmQPaIT"
   },
   "outputs": [],
   "source": [
    "# !pip install seaborn"
   ]
  },
  {
   "cell_type": "code",
   "execution_count": 21,
   "metadata": {
    "colab": {
     "base_uri": "https://localhost:8080/",
     "height": 645
    },
    "id": "hUEoxcdSPaIU",
    "outputId": "118e376a-a6b6-46db-bb44-3064cb07c0d9"
   },
   "outputs": [
    {
     "data": {
      "image/png": "[encoded data removed]",
      "text/plain": [
       "<Figure size 1000x750 with 2 Axes>"
      ]
     },
     "metadata": {},
     "output_type": "display_data"
    }
   ],
   "source": [
    "import matplotlib.pyplot as plt\n",
    "import matplotlib.ticker as ticker\n",
    "import seaborn as sns\n",
    "\n",
    "fdm = it.feature_density_matrix()\n",
    "fdm[fdm == 0] = np.nan\n",
    "\n",
    "plt.figure(figsize=(10, 7.5))\n",
    "\n",
    "ax = sns.heatmap(fdm, cmap=\"viridis\", linewidths=0.,\n",
    "                 linecolor=\"lightgrey\", square=True)\n",
    "ax.xaxis.set_major_locator(ticker.MultipleLocator(5))\n",
    "ax.yaxis.set_major_locator(ticker.MultipleLocator(5))\n",
    "for _, spine in ax.spines.items():\n",
    "    spine.set_visible(True)\n",
    "_ = plt.title(\"Feature per pixel\")"
   ]
  },
  {
   "cell_type": "markdown",
   "metadata": {
    "id": "TDQiWZuIPaIU"
   },
   "source": [
    "The following are showing plots for the image matrices first four samples\n",
    "of the training set."
   ]
  },
  {
   "cell_type": "code",
   "execution_count": 22,
   "metadata": {
    "colab": {
     "base_uri": "https://localhost:8080/",
     "height": 465
    },
    "id": "ZgndVxJCPaIU",
    "outputId": "15e15ddf-fde4-45cc-e055-425081f020e8"
   },
   "outputs": [
    {
     "data": {
      "image/png": "[encoded data removed]",
      "text/plain": [
       "<Figure size 1500x500 with 3 Axes>"
      ]
     },
     "metadata": {},
     "output_type": "display_data"
    }
   ],
   "source": [
    "fig, ax = plt.subplots(1, 3, figsize=(15, 5))\n",
    "for i in range(0,3):\n",
    "    ax[i].imshow(X_train_img[i])\n",
    "    ax[i].title.set_text(f\"Train[{i}] - class '{y_train[i]}'\")\n",
    "plt.tight_layout()"
   ]
  },
  {
   "cell_type": "markdown",
   "metadata": {
    "id": "35i5Mls7PaIU"
   },
   "source": [
    "Transforming the testing data is done the same as transforming the\n",
    "training data."
   ]
  },
  {
   "cell_type": "code",
   "execution_count": 23,
   "metadata": {
    "colab": {
     "base_uri": "https://localhost:8080/",
     "height": 465
    },
    "id": "km81VOcpPaIU",
    "outputId": "0e89e3eb-c338-4243-ba22-bdeb6eb632eb"
   },
   "outputs": [
    {
     "data": {
      "image/png": "[encoded data removed]",
      "text/plain": [
       "<Figure size 1500x500 with 3 Axes>"
      ]
     },
     "metadata": {},
     "output_type": "display_data"
    }
   ],
   "source": [
    "# X_test_img = it.transform(X_test_norm)\n",
    "\n",
    "fig, ax = plt.subplots(1, 3, figsize=(15, 5))\n",
    "for i in range(0,3):\n",
    "    ax[i].imshow(X_test_img[i])\n",
    "    ax[i].title.set_text(f\"Test[{i}] - class '{y_test[i]}'\")\n",
    "plt.tight_layout()"
   ]
  },
  {
   "cell_type": "markdown",
   "metadata": {
    "id": "XJGQghbnPaIU"
   },
   "source": [
    "## SqueezeNet"
   ]
  },
  {
   "cell_type": "code",
   "execution_count": 24,
   "metadata": {
    "id": "2wiXdhezPaIU"
   },
   "outputs": [],
   "source": [
    "import torch\n",
    "import torchvision\n",
    "import torchvision.transforms as transforms\n",
    "from torch.utils.data import TensorDataset, DataLoader, random_split\n",
    "import torch.nn as nn\n",
    "import torch.optim as optim\n",
    "\n",
    "from sklearn.metrics import accuracy_score, ConfusionMatrixDisplay\n",
    "\n",
    "import warnings;\n",
    "warnings.simplefilter('ignore')"
   ]
  },
  {
   "cell_type": "code",
   "execution_count": 25,
   "metadata": {
    "colab": {
     "base_uri": "https://localhost:8080/"
    },
    "id": "rWMdUHvJPaIU",
    "outputId": "345a1354-0f9f-4dc1-d7ab-e6d7b27c4a35"
   },
   "outputs": [],
   "source": [
    "# device = torch.device('cuda' if torch.cuda.is_available() else 'cpu')\n",
    "# device"
   ]
  },
  {
   "cell_type": "markdown",
   "metadata": {
    "id": "TbTtk4rdPaIU"
   },
   "source": [
    "Modify [PyTrorch SqueezeNet 1.1][1] output to number of classes\n",
    "\n",
    "[1]: https://pytorch.org/vision/stable/models/squeezenet.html"
   ]
  },
  {
   "cell_type": "code",
   "execution_count": 26,
   "metadata": {
    "colab": {
     "base_uri": "https://localhost:8080/"
    },
    "id": "D4t9HRj1PaIU",
    "outputId": "a5d90ef5-738c-4100-83b6-3c936dc2615f"
   },
   "outputs": [],
   "source": [
    "# model = torchvision.models.squeezenet1_1(weights='DEFAULT')\n",
    "# model.classifier.append(nn.Flatten())\n",
    "# _ = model.classifier.append(nn.Linear(1000, num_classes))"
   ]
  },
  {
   "cell_type": "markdown",
   "metadata": {
    "id": "Bye-6006PaIV"
   },
   "source": [
    "Transform numpy image format to PyTorch tensor. Using an untrained network,\n",
    "so normalization as specificed in SqueezeNet documentation is not\n",
    "required.\n"
   ]
  },
  {
   "cell_type": "code",
   "execution_count": 27,
   "metadata": {
    "id": "7dADhJGBPaIV"
   },
   "outputs": [],
   "source": [
    "preprocess = transforms.Compose([\n",
    "    transforms.ToTensor()\n",
    "])"
   ]
  },
  {
   "cell_type": "code",
   "execution_count": 28,
   "metadata": {
    "id": "mnEGRWOuPaIV"
   },
   "outputs": [],
   "source": [
    "X_train_tensor = torch.stack([preprocess(img) for img in X_train_img]).float()\n",
    "y_train_tensor = torch.from_numpy(le.fit_transform(y_train))\n",
    "\n",
    "X_test_tensor = torch.stack([preprocess(img) for img in X_test_img]).float()\n",
    "y_test_tensor = torch.from_numpy(le.transform(y_test))"
   ]
  },
  {
   "cell_type": "code",
   "execution_count": 29,
   "metadata": {
    "id": "eP1iyW7iPaIV"
   },
   "outputs": [],
   "source": [
    "batch_size = 200\n",
    "\n",
    "trainset = TensorDataset(X_train_tensor, y_train_tensor)\n",
    "trainloader = DataLoader(trainset, batch_size=batch_size, shuffle=True)\n",
    "\n",
    "testset = TensorDataset(X_test_tensor, y_test_tensor)\n",
    "testloader = DataLoader(testset, batch_size=batch_size, shuffle=False)"
   ]
  },
  {
   "cell_type": "markdown",
   "metadata": {
    "id": "EVoghv1QPaIV"
   },
   "source": [
    "Generate pyTorch datasets and dataloaders for training and testing sets."
   ]
  },
  {
   "cell_type": "markdown",
   "metadata": {
    "id": "wLUMpMd29tHx"
   },
   "source": [
    "# flower"
   ]
  },
  {
   "cell_type": "code",
   "execution_count": 30,
   "metadata": {
    "id": "HMpiz9TiWjLE"
   },
   "outputs": [
    {
     "name": "stdout",
     "output_type": "stream",
     "text": [
      "zsh:1: no matches found: flwr[simulation]\n"
     ]
    }
   ],
   "source": [
    "!pip install -q flwr[simulation]"
   ]
  },
  {
   "cell_type": "code",
   "execution_count": 31,
   "metadata": {
    "id": "HB_NouPdFi14"
   },
   "outputs": [],
   "source": [
    "NUM_CLIENTS =20\n",
    "NUM_ROUNDS= 50\n",
    "EPOCHS = 10\n",
    "DATASET1 = 'Cancer dataset'\n",
    "DATASET2 = 'Stroke dataset'"
   ]
  },
  {
   "cell_type": "code",
   "execution_count": 32,
   "metadata": {
    "id": "Zyw7O7KGHBG3"
   },
   "outputs": [],
   "source": [
    "class Net(nn.Module):\n",
    "    def __init__(self, num_classes):\n",
    "        super(Net, self).__init__()\n",
    "        self.model = torchvision.models.squeezenet1_1(weights='DEFAULT')\n",
    "        self.model.classifier.append(nn.Flatten())\n",
    "        self.model.classifier.append(nn.Linear(1000, num_classes))\n",
    "\n",
    "    def forward(self, x):\n",
    "        return self.model(x)"
   ]
  },
  {
   "cell_type": "code",
   "execution_count": 33,
   "metadata": {
    "id": "F0GxylmmfHlo"
   },
   "outputs": [],
   "source": [
    "def prepare_dataset(num_partitions: int, batch_size: int, val_ratio: float = 0.1):\n",
    "    \"\"\"Download dataset and generate IID partitions.\"\"\"\n",
    "\n",
    "    trainset = TensorDataset(X_train_tensor, y_train_tensor)\n",
    "    testset = TensorDataset(X_test_tensor, y_test_tensor)\n",
    "\n",
    "\n",
    "    # split trainset into `num_partitions` trainsets (one per client)\n",
    "    # figure out number of training examples per partition\n",
    "    num_images = len(trainset) // num_partitions\n",
    "    remainder = len(trainset) % num_partitions\n",
    "\n",
    "    # a list of partition lenghts (all partitions are of equal size)\n",
    "    partition_len = [num_images] * num_partitions\n",
    "    for i in range(remainder):\n",
    "        partition_len[i] += 1\n",
    "\n",
    "    # split randomly. This returns a list of trainsets, each with `num_images` training examples\n",
    "    # Note this is the simplest way of splitting this dataset.\n",
    "    trainsets = random_split(\n",
    "        trainset, partition_len, torch.Generator().manual_seed(42)\n",
    "    )\n",
    "\n",
    "    # create dataloaders with train+val support\n",
    "    trainloaders = []\n",
    "    valloaders = []\n",
    "    # for each train set, let's put aside some training examples for validation\n",
    "    for trainset_ in trainsets:\n",
    "        num_total = len(trainset_)\n",
    "        num_val = int(val_ratio * num_total)\n",
    "        num_train = num_total - num_val\n",
    "\n",
    "        for_train, for_val = random_split(\n",
    "            trainset_, [num_train, num_val], torch.Generator().manual_seed(42)\n",
    "        )\n",
    "\n",
    "        # construct data loaders and append to their respective list.\n",
    "        # In this way, the i-th client will get the i-th element in the trainloaders list and the i-th element in the valloaders list\n",
    "        trainloaders.append(\n",
    "            DataLoader(for_train, batch_size=batch_size, shuffle=True, num_workers=2)\n",
    "        )\n",
    "        valloaders.append(\n",
    "            DataLoader(for_val, batch_size=batch_size, shuffle=False, num_workers=2)\n",
    "        )\n",
    "\n",
    "    # We leave the test set intact (i.e. we don't partition it)\n",
    "    # This test set will be left on the server side and we'll be used to evaluate the\n",
    "    # performance of the global model after each round.\n",
    "    # Please note that a more realistic setting would instead use a validation set on the server for\n",
    "    # this purpose and only use the testset after the final round.\n",
    "\n",
    "    testloader = DataLoader(testset, batch_size=batch_size)\n",
    "\n",
    "    return trainloaders, valloaders, testloader"
   ]
  },
  {
   "cell_type": "code",
   "execution_count": 34,
   "metadata": {
    "id": "gOrjMSR-hGIz"
   },
   "outputs": [],
   "source": [
    "batch_size = 200\n",
    "\n",
    "trainloaders, valloaders, testloader = prepare_dataset(NUM_CLIENTS, batch_size)"
   ]
  },
  {
   "cell_type": "code",
   "execution_count": 35,
   "metadata": {},
   "outputs": [
    {
     "data": {
      "text/plain": [
       "device(type='cpu')"
      ]
     },
     "execution_count": 35,
     "metadata": {},
     "output_type": "execute_result"
    }
   ],
   "source": [
    "device = torch.device('cuda' if torch.cuda.is_available() else 'cpu')\n",
    "device"
   ]
  },
  {
   "cell_type": "code",
   "execution_count": 36,
   "metadata": {
    "id": "OdFKJHLew115"
   },
   "outputs": [],
   "source": [
    "import time\n",
    "\n",
    "def train(net, trainloader, optimizer, epochs):\n",
    "    \"\"\"Train the network on the training set.\"\"\"\n",
    "    criterion = torch.nn.CrossEntropyLoss()\n",
    "    net.train()\n",
    "    for _ in range(epochs):\n",
    "        # running_loss = 0.0\n",
    "        for images, labels in trainloader:\n",
    "            optimizer.zero_grad()\n",
    "            images, labels = images.to(device), labels.to(device)\n",
    "            outputs = net(images)\n",
    "            loss = criterion(outputs, labels)\n",
    "            loss.backward()\n",
    "            optimizer.step()\n",
    "        #     running_loss += loss.item()\n",
    "        # print(f\"Epoch [{epoch+1}/{epochs}], Loss: {running_loss / len(trainloader):.4f}\")\n",
    "    return net\n",
    "\n",
    "def test(net, testloader):\n",
    "    \"\"\"Validate the network on the entire test set.\"\"\"\n",
    "    criterion = torch.nn.CrossEntropyLoss()\n",
    "    #correct, total, loss = 0, 0, 0.0\n",
    "    correct, loss = 0, 0.0\n",
    "    net.eval()\n",
    "    with torch.no_grad():\n",
    "        for images, labels in testloader:\n",
    "            images, labels = images.to(device), labels.to(device)\n",
    "            outputs = net(images)\n",
    "            loss += criterion(outputs, labels).item()\n",
    "            _, predicted = torch.max(outputs.data, 1)\n",
    "            # total += labels.size(0)\n",
    "            correct += (predicted == labels).sum().item()\n",
    "    # accuracy = correct / total\n",
    "    accuracy = correct / len(testloader.dataset)\n",
    "    # avg_loss = loss / len(testloader)\n",
    "    # print(f\"Accuracy on test set: {100 * accuracy:.2f}%\")\n",
    "    # print(f\"Avg Loss on test set: {avg_loss:.4f}\")\n",
    "    return loss, accuracy\n",
    "\n",
    "def run_centralised(epochs: int, lr: float, momentum: float = 0.9):\n",
    "    \"\"\"A minimal (but complete) training loop\"\"\"\n",
    "\n",
    "    start_time = time.time()\n",
    "\n",
    "    # uses gpu\n",
    "    device = torch.device('cuda' if torch.cuda.is_available() else 'cpu')\n",
    "    \n",
    "    # Instantiate the SqueezeNet model\n",
    "    model = Net(num_classes=num_classes)\n",
    "    model.to(device)\n",
    "\n",
    "\n",
    "\n",
    "    # Define criterion and optimizer\n",
    "    criterion = nn.CrossEntropyLoss()\n",
    "    optimizer = optim.AdamW(\n",
    "    model.parameters(),\n",
    "    lr=1e-04,\n",
    "    # momentum=0.8,\n",
    "    weight_decay=1e-05\n",
    ")\n",
    "\n",
    "    # Create datasets and data loaders\n",
    "    batch_size = 200\n",
    "\n",
    "    trainset = TensorDataset(X_train_tensor, y_train_tensor)\n",
    "    trainloader = DataLoader(trainset, batch_size=batch_size, shuffle=True)\n",
    "\n",
    "    testset = TensorDataset(X_test_tensor, y_test_tensor)\n",
    "    testloader = DataLoader(testset, batch_size=batch_size, shuffle=False)\n",
    "\n",
    "    # Train the model\n",
    "    trained_model = train(model, trainloader, optimizer, epochs)\n",
    "\n",
    "    # Test the model\n",
    "    loss, accuracy = test(trained_model, testloader)\n",
    "    print(f\"{loss = }\")\n",
    "    print(f\"{accuracy = }\")\n",
    "\n",
    "    # End the timer\n",
    "    end_time = time.time()\n",
    "    elapsed_time = end_time - start_time\n",
    "    print(f\"Time taken: {elapsed_time:.2f} seconds\")\n",
    "\n",
    "\n",
    "# # Run the centralised training and testing\n",
    "# run_centralised(epochs=100, lr=0.01)\n"
   ]
  },
  {
   "cell_type": "code",
   "execution_count": 37,
   "metadata": {
    "id": "AAFBz7r4DNnv"
   },
   "outputs": [],
   "source": [
    "import flwr as fl\n",
    "from collections import OrderedDict\n",
    "from typing import Dict, Tuple\n",
    "\n",
    "import torch\n",
    "from flwr.common import NDArrays, Scalar\n",
    "\n",
    "\n",
    "class FlowerClient(fl.client.NumPyClient):\n",
    "    def __init__(self, trainloader, valloader) -> None:\n",
    "        super().__init__()\n",
    "\n",
    "        self.trainloader = trainloader\n",
    "        self.valloader = valloader\n",
    "        self.model = Net(num_classes)\n",
    "\n",
    "        # Determine device\n",
    "        self.device = torch.device(\"cuda:0\" if torch.cuda.is_available() else \"cpu\")\n",
    "        self.model.to(self.device)  # send model to device\n",
    "\n",
    "    def set_parameters(self, parameters):\n",
    "        \"\"\"With the model parameters received from the server,\n",
    "        overwrite the uninitialise model in this class with them.\"\"\"\n",
    "\n",
    "        params_dict = zip(self.model.state_dict().keys(), parameters)\n",
    "        state_dict = OrderedDict({k: torch.Tensor(v) for k, v in params_dict})\n",
    "        # now replace the parameters\n",
    "        self.model.load_state_dict(state_dict, strict=True)\n",
    "\n",
    "    def get_parameters(self, config: Dict[str, Scalar]):\n",
    "        \"\"\"Extract all model parameters and convert them to a list of\n",
    "        NumPy arrays. The server doesn't work with PyTorch/TF/etc.\"\"\"\n",
    "        return [val.cpu().numpy() for _, val in self.model.state_dict().items()]\n",
    "\n",
    "    def fit(self, parameters, config):\n",
    "        \"\"\"This method train the model using the parameters sent by the\n",
    "        server on the dataset of this client. At then end, the parameters\n",
    "        of the locally trained model are communicated back to the server\"\"\"\n",
    "\n",
    "        # copy parameters sent by the server into client's local model\n",
    "        self.set_parameters(parameters)\n",
    "\n",
    "        # Define the optimizer -------------------------------------------------------------- Essentially the same as in the centralised example above\n",
    "        #optim = torch.optim.SGD(self.model.parameters(), lr=0.01, momentum=0.9)\n",
    "        optimizer = optim.AdamW(self.model.parameters(),lr=1e-04, weight_decay=1e-05)\n",
    "\n",
    "        # do local training  -------------------------------------------------------------- Essentially the same as in the centralised example above (but now using the client's data instead of the whole dataset)\n",
    "        train(self.model, self.trainloader, optimizer, epochs=EPOCHS)\n",
    "\n",
    "        # return the model parameters to the server as well as extra info (number of training examples in this case)\n",
    "        return self.get_parameters({}), len(self.trainloader), {}\n",
    "\n",
    "    def evaluate(self, parameters: NDArrays, config: Dict[str, Scalar]):\n",
    "        \"\"\"Evaluate the model sent by the server on this client's\n",
    "        local validation set. Then return performance metrics.\"\"\"\n",
    "\n",
    "        self.set_parameters(parameters)\n",
    "        loss, accuracy = test(\n",
    "            self.model, self.valloader\n",
    "        )  # <-------------------------- calls the `test` function, just what we did in the centralised setting (but this time using the client's local validation set)\n",
    "        # send statistics back to the server\n",
    "        return float(loss), len(self.valloader), {\"accuracy\": accuracy}"
   ]
  },
  {
   "cell_type": "code",
   "execution_count": 38,
   "metadata": {
    "id": "bneSbJLUDnoZ"
   },
   "outputs": [],
   "source": [
    "def get_evaluate_fn(testloader):\n",
    "    \"\"\"This is a function that returns a function. The returned\n",
    "    function (i.e. `evaluate_fn`) will be executed by the strategy\n",
    "    at the end of each round to evaluate the stat of the global\n",
    "    model.\"\"\"\n",
    "\n",
    "    def evaluate_fn(server_round: int, parameters, config):\n",
    "        \"\"\"This function is executed by the strategy it will instantiate\n",
    "        a model and replace its parameters with those from the global model.\n",
    "        The, the model will be evaluate on the test set (recall this is the\n",
    "        whole test set).\"\"\"\n",
    "\n",
    "        model = Net(num_classes)\n",
    "\n",
    "        # Determine device\n",
    "        device = torch.device(\"cuda:0\" if torch.cuda.is_available() else \"cpu\")\n",
    "        model.to(device)  # send model to device\n",
    "\n",
    "        # set parameters to the model\n",
    "        params_dict = zip(model.state_dict().keys(), parameters)\n",
    "        state_dict = OrderedDict({k: torch.Tensor(v) for k, v in params_dict})\n",
    "        model.load_state_dict(state_dict, strict=True)\n",
    "\n",
    "        # call test\n",
    "        loss, accuracy = test(\n",
    "            model, testloader\n",
    "        )  # <-------------------------- calls the `test` function, just what we did in the centralised setting\n",
    "        return loss, {\"accuracy\": accuracy}\n",
    "\n",
    "    return evaluate_fn\n",
    "\n"
   ]
  },
  {
   "cell_type": "code",
   "execution_count": 39,
   "metadata": {
    "id": "EmY3vOY7D3ZM"
   },
   "outputs": [],
   "source": [
    "def generate_client_fn(trainloaders, valloaders):\n",
    "    def client_fn(cid: str):\n",
    "        \"\"\"Returns a FlowerClient containing the cid-th data partition\"\"\"\n",
    "\n",
    "        return FlowerClient(\n",
    "            trainloader=trainloaders[int(cid)], valloader=valloaders[int(cid)]\n",
    "        ).to_client()\n",
    "\n",
    "    return client_fn\n",
    "\n",
    "\n",
    "client_fn_callback = generate_client_fn(trainloaders, valloaders)"
   ]
  },
  {
   "cell_type": "code",
   "execution_count": 40,
   "metadata": {
    "id": "gjBxdlQ2D7mb",
    "scrolled": true
   },
   "outputs": [
    {
     "name": "stderr",
     "output_type": "stream",
     "text": [
      "\u001b[92mINFO \u001b[0m:      Starting Flower simulation, config: num_rounds=50, no round_timeout\n",
      "2024-06-19 16:43:48,600\tINFO worker.py:1621 -- Started a local Ray instance.\n"
     ]
    },
    {
     "ename": "KeyboardInterrupt",
     "evalue": "",
     "output_type": "error",
     "traceback": [
      "\u001b[0;31m---------------------------------------------------------------------------\u001b[0m",
      "\u001b[0;31mKeyboardInterrupt\u001b[0m                         Traceback (most recent call last)",
      "Cell \u001b[0;32mIn[40], line 42\u001b[0m\n\u001b[1;32m     33\u001b[0m \u001b[38;5;66;03m# #Add fixedclipping_mod to the client-side mods\u001b[39;00m\n\u001b[1;32m     34\u001b[0m \u001b[38;5;66;03m# app = fl.client.ClientApp(\u001b[39;00m\n\u001b[1;32m     35\u001b[0m \u001b[38;5;66;03m#         client_fn=client_fn_callback,\u001b[39;00m\n\u001b[0;32m   (...)\u001b[0m\n\u001b[1;32m     38\u001b[0m \u001b[38;5;66;03m#         ]\u001b[39;00m\n\u001b[1;32m     39\u001b[0m \u001b[38;5;66;03m# )\u001b[39;00m\n\u001b[1;32m     40\u001b[0m client_resources \u001b[38;5;241m=\u001b[39m {\u001b[38;5;124m\"\u001b[39m\u001b[38;5;124mnum_cpus\u001b[39m\u001b[38;5;124m\"\u001b[39m: \u001b[38;5;241m3\u001b[39m, \u001b[38;5;124m\"\u001b[39m\u001b[38;5;124mnum_gpus\u001b[39m\u001b[38;5;124m\"\u001b[39m: \u001b[38;5;241m0.05\u001b[39m}\n\u001b[0;32m---> 42\u001b[0m history \u001b[38;5;241m=\u001b[39m \u001b[43mfl\u001b[49m\u001b[38;5;241;43m.\u001b[39;49m\u001b[43msimulation\u001b[49m\u001b[38;5;241;43m.\u001b[39;49m\u001b[43mstart_simulation\u001b[49m\u001b[43m(\u001b[49m\n\u001b[1;32m     43\u001b[0m \u001b[43m    \u001b[49m\u001b[43mclient_fn\u001b[49m\u001b[38;5;241;43m=\u001b[39;49m\u001b[43mclient_fn_callback\u001b[49m\u001b[43m,\u001b[49m\u001b[43m  \u001b[49m\u001b[38;5;66;43;03m# a callback to construct a client\u001b[39;49;00m\n\u001b[1;32m     44\u001b[0m \u001b[43m    \u001b[49m\u001b[43mnum_clients\u001b[49m\u001b[38;5;241;43m=\u001b[39;49m\u001b[43mNUM_CLIENTS\u001b[49m\u001b[43m,\u001b[49m\u001b[43m  \u001b[49m\u001b[38;5;66;43;03m# total number of clients in the experiment\u001b[39;49;00m\n\u001b[1;32m     45\u001b[0m \u001b[43m    \u001b[49m\u001b[43mconfig\u001b[49m\u001b[38;5;241;43m=\u001b[39;49m\u001b[43mfl\u001b[49m\u001b[38;5;241;43m.\u001b[39;49m\u001b[43mserver\u001b[49m\u001b[38;5;241;43m.\u001b[39;49m\u001b[43mServerConfig\u001b[49m\u001b[43m(\u001b[49m\u001b[43mnum_rounds\u001b[49m\u001b[38;5;241;43m=\u001b[39;49m\u001b[43mNUM_ROUNDS\u001b[49m\u001b[43m)\u001b[49m\u001b[43m,\u001b[49m\u001b[43m  \u001b[49m\u001b[38;5;66;43;03m# let's run for 10 rounds\u001b[39;49;00m\n\u001b[1;32m     46\u001b[0m \u001b[43m    \u001b[49m\u001b[43mstrategy\u001b[49m\u001b[38;5;241;43m=\u001b[39;49m\u001b[43mdp_strategy\u001b[49m\u001b[43m,\u001b[49m\u001b[43m  \u001b[49m\u001b[38;5;66;43;03m# the strategy that will orchestrate the whole FL pipeline\u001b[39;49;00m\n\u001b[1;32m     47\u001b[0m \u001b[43m    \u001b[49m\u001b[43mclient_resources\u001b[49m\u001b[38;5;241;43m=\u001b[39;49m\u001b[43mclient_resources\u001b[49m\n\u001b[1;32m     48\u001b[0m \u001b[43m)\u001b[49m\n",
      "File \u001b[0;32m~/anaconda3/lib/python3.10/site-packages/flwr/simulation/app.py:211\u001b[0m, in \u001b[0;36mstart_simulation\u001b[0;34m(client_fn, num_clients, clients_ids, client_resources, server, config, strategy, client_manager, ray_init_args, keep_initialised, actor_type, actor_kwargs, actor_scheduling)\u001b[0m\n\u001b[1;32m    208\u001b[0m     ray\u001b[38;5;241m.\u001b[39mshutdown()\n\u001b[1;32m    210\u001b[0m \u001b[38;5;66;03m# Initialize Ray\u001b[39;00m\n\u001b[0;32m--> 211\u001b[0m \u001b[43mray\u001b[49m\u001b[38;5;241;43m.\u001b[39;49m\u001b[43minit\u001b[49m\u001b[43m(\u001b[49m\u001b[38;5;241;43m*\u001b[39;49m\u001b[38;5;241;43m*\u001b[39;49m\u001b[43mray_init_args\u001b[49m\u001b[43m)\u001b[49m\n\u001b[1;32m    212\u001b[0m cluster_resources \u001b[38;5;241m=\u001b[39m ray\u001b[38;5;241m.\u001b[39mcluster_resources()\n\u001b[1;32m    213\u001b[0m log(\n\u001b[1;32m    214\u001b[0m     INFO,\n\u001b[1;32m    215\u001b[0m     \u001b[38;5;124m\"\u001b[39m\u001b[38;5;124mFlower VCE: Ray initialized with resources: \u001b[39m\u001b[38;5;132;01m%s\u001b[39;00m\u001b[38;5;124m\"\u001b[39m,\n\u001b[1;32m    216\u001b[0m     cluster_resources,\n\u001b[1;32m    217\u001b[0m )\n",
      "File \u001b[0;32m~/anaconda3/lib/python3.10/site-packages/ray/_private/client_mode_hook.py:103\u001b[0m, in \u001b[0;36mclient_mode_hook.<locals>.wrapper\u001b[0;34m(*args, **kwargs)\u001b[0m\n\u001b[1;32m    101\u001b[0m     \u001b[38;5;28;01mif\u001b[39;00m func\u001b[38;5;241m.\u001b[39m\u001b[38;5;18m__name__\u001b[39m \u001b[38;5;241m!=\u001b[39m \u001b[38;5;124m\"\u001b[39m\u001b[38;5;124minit\u001b[39m\u001b[38;5;124m\"\u001b[39m \u001b[38;5;129;01mor\u001b[39;00m is_client_mode_enabled_by_default:\n\u001b[1;32m    102\u001b[0m         \u001b[38;5;28;01mreturn\u001b[39;00m \u001b[38;5;28mgetattr\u001b[39m(ray, func\u001b[38;5;241m.\u001b[39m\u001b[38;5;18m__name__\u001b[39m)(\u001b[38;5;241m*\u001b[39margs, \u001b[38;5;241m*\u001b[39m\u001b[38;5;241m*\u001b[39mkwargs)\n\u001b[0;32m--> 103\u001b[0m \u001b[38;5;28;01mreturn\u001b[39;00m \u001b[43mfunc\u001b[49m\u001b[43m(\u001b[49m\u001b[38;5;241;43m*\u001b[39;49m\u001b[43margs\u001b[49m\u001b[43m,\u001b[49m\u001b[43m \u001b[49m\u001b[38;5;241;43m*\u001b[39;49m\u001b[38;5;241;43m*\u001b[39;49m\u001b[43mkwargs\u001b[49m\u001b[43m)\u001b[49m\n",
      "File \u001b[0;32m~/anaconda3/lib/python3.10/site-packages/ray/_private/worker.py:1623\u001b[0m, in \u001b[0;36minit\u001b[0;34m(address, num_cpus, num_gpus, resources, labels, object_store_memory, local_mode, ignore_reinit_error, include_dashboard, dashboard_host, dashboard_port, job_config, configure_logging, logging_level, logging_format, log_to_driver, namespace, runtime_env, storage, **kwargs)\u001b[0m\n\u001b[1;32m   1620\u001b[0m \u001b[38;5;28;01melse\u001b[39;00m:\n\u001b[1;32m   1621\u001b[0m     logger\u001b[38;5;241m.\u001b[39minfo(info_str)\n\u001b[0;32m-> 1623\u001b[0m \u001b[43mconnect\u001b[49m\u001b[43m(\u001b[49m\n\u001b[1;32m   1624\u001b[0m \u001b[43m    \u001b[49m\u001b[43m_global_node\u001b[49m\u001b[43m,\u001b[49m\n\u001b[1;32m   1625\u001b[0m \u001b[43m    \u001b[49m\u001b[43m_global_node\u001b[49m\u001b[38;5;241;43m.\u001b[39;49m\u001b[43msession_name\u001b[49m\u001b[43m,\u001b[49m\n\u001b[1;32m   1626\u001b[0m \u001b[43m    \u001b[49m\u001b[43mmode\u001b[49m\u001b[38;5;241;43m=\u001b[39;49m\u001b[43mdriver_mode\u001b[49m\u001b[43m,\u001b[49m\n\u001b[1;32m   1627\u001b[0m \u001b[43m    \u001b[49m\u001b[43mlog_to_driver\u001b[49m\u001b[38;5;241;43m=\u001b[39;49m\u001b[43mlog_to_driver\u001b[49m\u001b[43m,\u001b[49m\n\u001b[1;32m   1628\u001b[0m \u001b[43m    \u001b[49m\u001b[43mworker\u001b[49m\u001b[38;5;241;43m=\u001b[39;49m\u001b[43mglobal_worker\u001b[49m\u001b[43m,\u001b[49m\n\u001b[1;32m   1629\u001b[0m \u001b[43m    \u001b[49m\u001b[43mdriver_object_store_memory\u001b[49m\u001b[38;5;241;43m=\u001b[39;49m\u001b[43m_driver_object_store_memory\u001b[49m\u001b[43m,\u001b[49m\n\u001b[1;32m   1630\u001b[0m \u001b[43m    \u001b[49m\u001b[43mjob_id\u001b[49m\u001b[38;5;241;43m=\u001b[39;49m\u001b[38;5;28;43;01mNone\u001b[39;49;00m\u001b[43m,\u001b[49m\n\u001b[1;32m   1631\u001b[0m \u001b[43m    \u001b[49m\u001b[43mnamespace\u001b[49m\u001b[38;5;241;43m=\u001b[39;49m\u001b[43mnamespace\u001b[49m\u001b[43m,\u001b[49m\n\u001b[1;32m   1632\u001b[0m \u001b[43m    \u001b[49m\u001b[43mjob_config\u001b[49m\u001b[38;5;241;43m=\u001b[39;49m\u001b[43mjob_config\u001b[49m\u001b[43m,\u001b[49m\n\u001b[1;32m   1633\u001b[0m \u001b[43m    \u001b[49m\u001b[43mentrypoint\u001b[49m\u001b[38;5;241;43m=\u001b[39;49m\u001b[43mray\u001b[49m\u001b[38;5;241;43m.\u001b[39;49m\u001b[43m_private\u001b[49m\u001b[38;5;241;43m.\u001b[39;49m\u001b[43mutils\u001b[49m\u001b[38;5;241;43m.\u001b[39;49m\u001b[43mget_entrypoint_name\u001b[49m\u001b[43m(\u001b[49m\u001b[43m)\u001b[49m\u001b[43m,\u001b[49m\n\u001b[1;32m   1634\u001b[0m \u001b[43m\u001b[49m\u001b[43m)\u001b[49m\n\u001b[1;32m   1635\u001b[0m \u001b[38;5;28;01mif\u001b[39;00m job_config \u001b[38;5;129;01mand\u001b[39;00m job_config\u001b[38;5;241m.\u001b[39mcode_search_path:\n\u001b[1;32m   1636\u001b[0m     global_worker\u001b[38;5;241m.\u001b[39mset_load_code_from_local(\u001b[38;5;28;01mTrue\u001b[39;00m)\n",
      "File \u001b[0;32m~/anaconda3/lib/python3.10/site-packages/ray/_private/worker.py:2246\u001b[0m, in \u001b[0;36mconnect\u001b[0;34m(node, session_name, mode, log_to_driver, worker, driver_object_store_memory, job_id, namespace, job_config, runtime_env_hash, startup_token, ray_debugger_external, entrypoint, worker_launch_time_ms, worker_launched_time_ms)\u001b[0m\n\u001b[1;32m   2244\u001b[0m \u001b[38;5;28;01melse\u001b[39;00m:\n\u001b[1;32m   2245\u001b[0m     logs_dir \u001b[38;5;241m=\u001b[39m node\u001b[38;5;241m.\u001b[39mget_logs_dir_path()\n\u001b[0;32m-> 2246\u001b[0m worker\u001b[38;5;241m.\u001b[39mcore_worker \u001b[38;5;241m=\u001b[39m \u001b[43mray\u001b[49m\u001b[38;5;241;43m.\u001b[39;49m\u001b[43m_raylet\u001b[49m\u001b[38;5;241;43m.\u001b[39;49m\u001b[43mCoreWorker\u001b[49m\u001b[43m(\u001b[49m\n\u001b[1;32m   2247\u001b[0m \u001b[43m    \u001b[49m\u001b[43mmode\u001b[49m\u001b[43m,\u001b[49m\n\u001b[1;32m   2248\u001b[0m \u001b[43m    \u001b[49m\u001b[43mnode\u001b[49m\u001b[38;5;241;43m.\u001b[39;49m\u001b[43mplasma_store_socket_name\u001b[49m\u001b[43m,\u001b[49m\n\u001b[1;32m   2249\u001b[0m \u001b[43m    \u001b[49m\u001b[43mnode\u001b[49m\u001b[38;5;241;43m.\u001b[39;49m\u001b[43mraylet_socket_name\u001b[49m\u001b[43m,\u001b[49m\n\u001b[1;32m   2250\u001b[0m \u001b[43m    \u001b[49m\u001b[43mjob_id\u001b[49m\u001b[43m,\u001b[49m\n\u001b[1;32m   2251\u001b[0m \u001b[43m    \u001b[49m\u001b[43mgcs_options\u001b[49m\u001b[43m,\u001b[49m\n\u001b[1;32m   2252\u001b[0m \u001b[43m    \u001b[49m\u001b[43mlogs_dir\u001b[49m\u001b[43m,\u001b[49m\n\u001b[1;32m   2253\u001b[0m \u001b[43m    \u001b[49m\u001b[43mnode\u001b[49m\u001b[38;5;241;43m.\u001b[39;49m\u001b[43mnode_ip_address\u001b[49m\u001b[43m,\u001b[49m\n\u001b[1;32m   2254\u001b[0m \u001b[43m    \u001b[49m\u001b[43mnode\u001b[49m\u001b[38;5;241;43m.\u001b[39;49m\u001b[43mnode_manager_port\u001b[49m\u001b[43m,\u001b[49m\n\u001b[1;32m   2255\u001b[0m \u001b[43m    \u001b[49m\u001b[43mnode\u001b[49m\u001b[38;5;241;43m.\u001b[39;49m\u001b[43mraylet_ip_address\u001b[49m\u001b[43m,\u001b[49m\n\u001b[1;32m   2256\u001b[0m \u001b[43m    \u001b[49m\u001b[43m(\u001b[49m\u001b[43mmode\u001b[49m\u001b[43m \u001b[49m\u001b[38;5;241;43m==\u001b[39;49m\u001b[43m \u001b[49m\u001b[43mLOCAL_MODE\u001b[49m\u001b[43m)\u001b[49m\u001b[43m,\u001b[49m\n\u001b[1;32m   2257\u001b[0m \u001b[43m    \u001b[49m\u001b[43mdriver_name\u001b[49m\u001b[43m,\u001b[49m\n\u001b[1;32m   2258\u001b[0m \u001b[43m    \u001b[49m\u001b[43mlog_stdout_file_path\u001b[49m\u001b[43m,\u001b[49m\n\u001b[1;32m   2259\u001b[0m \u001b[43m    \u001b[49m\u001b[43mlog_stderr_file_path\u001b[49m\u001b[43m,\u001b[49m\n\u001b[1;32m   2260\u001b[0m \u001b[43m    \u001b[49m\u001b[43mserialized_job_config\u001b[49m\u001b[43m,\u001b[49m\n\u001b[1;32m   2261\u001b[0m \u001b[43m    \u001b[49m\u001b[43mnode\u001b[49m\u001b[38;5;241;43m.\u001b[39;49m\u001b[43mmetrics_agent_port\u001b[49m\u001b[43m,\u001b[49m\n\u001b[1;32m   2262\u001b[0m \u001b[43m    \u001b[49m\u001b[43mruntime_env_hash\u001b[49m\u001b[43m,\u001b[49m\n\u001b[1;32m   2263\u001b[0m \u001b[43m    \u001b[49m\u001b[43mstartup_token\u001b[49m\u001b[43m,\u001b[49m\n\u001b[1;32m   2264\u001b[0m \u001b[43m    \u001b[49m\u001b[43msession_name\u001b[49m\u001b[43m,\u001b[49m\n\u001b[1;32m   2265\u001b[0m \u001b[43m    \u001b[49m\u001b[38;5;124;43m\"\u001b[39;49m\u001b[38;5;124;43m\"\u001b[39;49m\u001b[43m \u001b[49m\u001b[38;5;28;43;01mif\u001b[39;49;00m\u001b[43m \u001b[49m\u001b[43mmode\u001b[49m\u001b[43m \u001b[49m\u001b[38;5;241;43m!=\u001b[39;49m\u001b[43m \u001b[49m\u001b[43mSCRIPT_MODE\u001b[49m\u001b[43m \u001b[49m\u001b[38;5;28;43;01melse\u001b[39;49;00m\u001b[43m \u001b[49m\u001b[43mentrypoint\u001b[49m\u001b[43m,\u001b[49m\n\u001b[1;32m   2266\u001b[0m \u001b[43m    \u001b[49m\u001b[43mworker_launch_time_ms\u001b[49m\u001b[43m,\u001b[49m\n\u001b[1;32m   2267\u001b[0m \u001b[43m    \u001b[49m\u001b[43mworker_launched_time_ms\u001b[49m\u001b[43m,\u001b[49m\n\u001b[1;32m   2268\u001b[0m \u001b[43m\u001b[49m\u001b[43m)\u001b[49m\n\u001b[1;32m   2270\u001b[0m \u001b[38;5;66;03m# Notify raylet that the core worker is ready.\u001b[39;00m\n\u001b[1;32m   2271\u001b[0m worker\u001b[38;5;241m.\u001b[39mcore_worker\u001b[38;5;241m.\u001b[39mnotify_raylet()\n",
      "\u001b[0;31mKeyboardInterrupt\u001b[0m: "
     ]
    }
   ],
   "source": [
    "from flwr.server.strategy import DifferentialPrivacyClientSideFixedClipping\n",
    "from flwr.server.strategy import DifferentialPrivacyServerSideFixedClipping\n",
    "\n",
    "from flwr.server.strategy import DifferentialPrivacyClientSideAdaptiveClipping\n",
    "from flwr.server.strategy import DifferentialPrivacyServerSideAdaptiveClipping\n",
    "\n",
    "from flwr.client.mod import fixedclipping_mod, adaptiveclipping_mod\n",
    "\n",
    "# now we can define the strategy\n",
    "strategy = fl.server.strategy.FedAvg(\n",
    "    #fraction_fit=0.1,  # let's sample 10% of the client each round to do local training\n",
    "    #fraction_evaluate=0.1,  # after each round, let's sample 20% of the clients to asses how well the global model is doing\n",
    "    min_fit_clients=NUM_CLIENTS,\n",
    "    min_evaluate_clients=NUM_CLIENTS,\n",
    "    min_available_clients=NUM_CLIENTS,\n",
    "    evaluate_fn=get_evaluate_fn(testloader),\n",
    "    # initial_parameters=parameters\n",
    ")  # a callback to a function that the strategy can execute to evaluate the state of the global model on a centralised dataset\n",
    "\n",
    "# dp_strategy = DifferentialPrivacyClientSideFixedClipping(\n",
    "#         strategy,\n",
    "#         noise_multiplier=1,\n",
    "#         clipping_norm=10,\n",
    "#         num_sampled_clients=NUM_CLIENTS,\n",
    "#     )\n",
    "\n",
    "dp_strategy = DifferentialPrivacyServerSideAdaptiveClipping(\n",
    "        strategy,\n",
    "        noise_multiplier=0.01,\n",
    "        num_sampled_clients=NUM_CLIENTS,\n",
    "    )\n",
    "\n",
    "# #Add fixedclipping_mod to the client-side mods\n",
    "# app = fl.client.ClientApp(\n",
    "#         client_fn=client_fn_callback,\n",
    "#         mods=[\n",
    "#             fixedclipping_mod,\n",
    "#         ]\n",
    "# )\n",
    "client_resources = {\"num_cpus\": 3, \"num_gpus\": 0.05}\n",
    "\n",
    "history = fl.simulation.start_simulation(\n",
    "    client_fn=client_fn_callback,  # a callback to construct a client\n",
    "    num_clients=NUM_CLIENTS,  # total number of clients in the experiment\n",
    "    config=fl.server.ServerConfig(num_rounds=NUM_ROUNDS),  # let's run for 10 rounds\n",
    "    strategy=dp_strategy,  # the strategy that will orchestrate the whole FL pipeline\n",
    "    client_resources=client_resources\n",
    ")\n"
   ]
  },
  {
   "cell_type": "code",
   "execution_count": null,
   "metadata": {
    "colab": {
     "base_uri": "https://localhost:8080/"
    },
    "id": "ZC4YMlQ1rKHH",
    "outputId": "e015183f-4286-49f9-99b0-4f1d5e92b194"
   },
   "outputs": [],
   "source": [
    "%matplotlib inline\n",
    "import os\n",
    "import matplotlib.pyplot as plt\n",
    "\n",
    "print(f\"{history.metrics_centralized = }\")\n",
    "\n",
    "global_accuracy_centralised = history.metrics_centralized[\"accuracy\"]\n",
    "round = [data[0] for data in global_accuracy_centralised]\n",
    "acc = [100.0 * data[1] for data in global_accuracy_centralised]\n",
    "plt.plot(round, acc)\n",
    "plt.grid(True)\n",
    "plt.ylabel(\"Accuracy DeepInsight (%)\")\n",
    "plt.xlabel(\"Round\")\n",
    "plt.title(f\"{DATASET1} Accuracy Over {NUM_ROUNDS} Rounds {NUM_CLIENTS} clients\")\n",
    "# Specify the directory where you want to save the plot\n",
    "save_directory = \"/gpfs/home4/aduah/flower/metrics\"\n",
    " \n",
    "# Ensure the directory exists, create it if it does not\n",
    "os.makedirs(save_directory, exist_ok=True)\n",
    "\n",
    "# Construct the full path for the file CANCER\n",
    "save_path = os.path.join(save_directory, f\"DeepInsightPCA_{DATASET1}_{NUM_CLIENTS}C_{NUM_ROUNDS}R_{EPOCHS}E_FedAvgDP001\")\n",
    "\n",
    "# save_path = os.path.join(save_directory, f\"DeepInsight_{DATASET2}_{NUM_CLIENTS}C_{NUM_ROUNDS}R_{EPOCHS}E_FedAvgDP_001\")\n",
    "\n",
    "\n",
    "# Save the plot to the specified directory\n",
    "plt.savefig(save_path)\n",
    "plt.show()"
   ]
  },
  {
   "cell_type": "code",
   "execution_count": 37,
   "metadata": {},
   "outputs": [
    {
     "ename": "NameError",
     "evalue": "name 'acc' is not defined",
     "output_type": "error",
     "traceback": [
      "\u001b[0;31m---------------------------------------------------------------------------\u001b[0m",
      "\u001b[0;31mNameError\u001b[0m                                 Traceback (most recent call last)",
      "Cell \u001b[0;32mIn[37], line 22\u001b[0m\n\u001b[1;32m     20\u001b[0m     writer \u001b[38;5;241m=\u001b[39m csv\u001b[38;5;241m.\u001b[39mwriter(file)\n\u001b[1;32m     21\u001b[0m     writer\u001b[38;5;241m.\u001b[39mwriterow([\u001b[38;5;124m'\u001b[39m\u001b[38;5;124mRound\u001b[39m\u001b[38;5;124m'\u001b[39m, \u001b[38;5;124m'\u001b[39m\u001b[38;5;124mAccuracy\u001b[39m\u001b[38;5;124m'\u001b[39m])\n\u001b[0;32m---> 22\u001b[0m     \u001b[38;5;28;01mfor\u001b[39;00m r, a \u001b[38;5;129;01min\u001b[39;00m \u001b[38;5;28mzip\u001b[39m(\u001b[38;5;28mround\u001b[39m, \u001b[43macc\u001b[49m):\n\u001b[1;32m     23\u001b[0m         writer\u001b[38;5;241m.\u001b[39mwriterow([r, a])\n\u001b[1;32m     25\u001b[0m \u001b[38;5;28mprint\u001b[39m(\u001b[38;5;124mf\u001b[39m\u001b[38;5;124m\"\u001b[39m\u001b[38;5;124mData saved to \u001b[39m\u001b[38;5;132;01m{\u001b[39;00mcsv_filepath\u001b[38;5;132;01m}\u001b[39;00m\u001b[38;5;124m\"\u001b[39m)\n",
      "\u001b[0;31mNameError\u001b[0m: name 'acc' is not defined"
     ]
    }
   ],
   "source": [
    "import csv\n",
    "import os\n",
    "\n",
    "# Define the save directory\n",
    "save_directory = \"/gpfs/home4/aduah/flower/metrics\"\n",
    "\n",
    "# Create the directory if it does not exist\n",
    "os.makedirs(save_directory, exist_ok=True)\n",
    "\n",
    "csv_filename = f\"DeepInsightPCA_{DATASET1}_{NUM_CLIENTS}C_{NUM_ROUNDS}R_{EPOCHS}E_FedAvg.csv\"\n",
    "\n",
    "# Define the CSV filename\n",
    "# csv_filename = f\"DeepInsight_{DATASET2}_{NUM_CLIENTS}C_{NUM_ROUNDS}R_{EPOCHS}E_FedAvgDP_001.csv\"\n",
    "\n",
    "# Create the full path for the CSV file\n",
    "csv_filepath = os.path.join(save_directory, csv_filename)\n",
    "\n",
    "# Save the data to the CSV file\n",
    "with open(csv_filepath, mode='w', newline='') as file:\n",
    "    writer = csv.writer(file)\n",
    "    writer.writerow(['Round', 'Accuracy'])\n",
    "    for r, a in zip(round, acc):\n",
    "        writer.writerow([r, a])\n",
    "\n",
    "print(f\"Data saved to {csv_filepath}\")\n"
   ]
  },
  {
   "cell_type": "markdown",
   "metadata": {
    "id": "AdFjdrGeDHHu"
   },
   "source": [
    "-----------------------------\n",
    "\n",
    "---\n",
    "\n"
   ]
  },
  {
   "cell_type": "markdown",
   "metadata": {},
   "source": [
    "# Saving Model"
   ]
  },
  {
   "cell_type": "code",
   "execution_count": null,
   "metadata": {},
   "outputs": [],
   "source": [
    "# saves it per round advisable to make a folder and save the rounds"
   ]
  },
  {
   "cell_type": "code",
   "execution_count": 44,
   "metadata": {},
   "outputs": [
    {
     "name": "stderr",
     "output_type": "stream",
     "text": [
      "\u001b[92mINFO \u001b[0m:      Starting Flower simulation, config: num_rounds=50, no round_timeout\n",
      "Exception ignored in: <bound method IPythonKernel._clean_thread_parent_frames of <ipykernel.ipkernel.IPythonKernel object at 0x1070556f0>>\n",
      "Traceback (most recent call last):\n",
      "  File \"/Users/allan/anaconda3/lib/python3.10/site-packages/ipykernel/ipkernel.py\", line 775, in _clean_thread_parent_frames\n",
      "    def _clean_thread_parent_frames(\n",
      "KeyboardInterrupt: \n"
     ]
    },
    {
     "ename": "KeyboardInterrupt",
     "evalue": "",
     "output_type": "error",
     "traceback": [
      "\u001b[0;31m---------------------------------------------------------------------------\u001b[0m",
      "\u001b[0;31mKeyboardInterrupt\u001b[0m                         Traceback (most recent call last)",
      "Cell \u001b[0;32mIn[44], line 55\u001b[0m\n\u001b[1;32m     45\u001b[0m strategy \u001b[38;5;241m=\u001b[39m SaveModelStrategy(\n\u001b[1;32m     46\u001b[0m     \u001b[38;5;66;03m#fraction_fit=0.1,  # let's sample 10% of the client each round to do local training\u001b[39;00m\n\u001b[1;32m     47\u001b[0m     \u001b[38;5;66;03m#fraction_evaluate=0.1,  # after each round, let's sample 20% of the clients to asses how well the global model is doing\u001b[39;00m\n\u001b[0;32m   (...)\u001b[0m\n\u001b[1;32m     51\u001b[0m     evaluate_fn\u001b[38;5;241m=\u001b[39mget_evaluate_fn(testloader),\n\u001b[1;32m     52\u001b[0m )  \u001b[38;5;66;03m# a callback to a function that the strategy can execute to evaluate the state of the global model on a centralised dataset\u001b[39;00m\n\u001b[1;32m     53\u001b[0m client_resources \u001b[38;5;241m=\u001b[39m {\u001b[38;5;124m\"\u001b[39m\u001b[38;5;124mnum_cpus\u001b[39m\u001b[38;5;124m\"\u001b[39m: \u001b[38;5;241m3\u001b[39m, \u001b[38;5;124m\"\u001b[39m\u001b[38;5;124mnum_gpus\u001b[39m\u001b[38;5;124m\"\u001b[39m: \u001b[38;5;241m0.05\u001b[39m}\n\u001b[0;32m---> 55\u001b[0m history \u001b[38;5;241m=\u001b[39m \u001b[43mfl\u001b[49m\u001b[38;5;241;43m.\u001b[39;49m\u001b[43msimulation\u001b[49m\u001b[38;5;241;43m.\u001b[39;49m\u001b[43mstart_simulation\u001b[49m\u001b[43m(\u001b[49m\n\u001b[1;32m     56\u001b[0m \u001b[43m    \u001b[49m\u001b[43mclient_fn\u001b[49m\u001b[38;5;241;43m=\u001b[39;49m\u001b[43mclient_fn_callback\u001b[49m\u001b[43m,\u001b[49m\u001b[43m  \u001b[49m\u001b[38;5;66;43;03m# a callback to construct a client\u001b[39;49;00m\n\u001b[1;32m     57\u001b[0m \u001b[43m    \u001b[49m\u001b[43mnum_clients\u001b[49m\u001b[38;5;241;43m=\u001b[39;49m\u001b[43mNUM_CLIENTS\u001b[49m\u001b[43m,\u001b[49m\u001b[43m  \u001b[49m\u001b[38;5;66;43;03m# total number of clients in the experiment\u001b[39;49;00m\n\u001b[1;32m     58\u001b[0m \u001b[43m    \u001b[49m\u001b[43mconfig\u001b[49m\u001b[38;5;241;43m=\u001b[39;49m\u001b[43mfl\u001b[49m\u001b[38;5;241;43m.\u001b[39;49m\u001b[43mserver\u001b[49m\u001b[38;5;241;43m.\u001b[39;49m\u001b[43mServerConfig\u001b[49m\u001b[43m(\u001b[49m\u001b[43mnum_rounds\u001b[49m\u001b[38;5;241;43m=\u001b[39;49m\u001b[43mNUM_ROUNDS\u001b[49m\u001b[43m)\u001b[49m\u001b[43m,\u001b[49m\u001b[43m  \u001b[49m\u001b[38;5;66;43;03m# let's run for 10 rounds\u001b[39;49;00m\n\u001b[1;32m     59\u001b[0m \u001b[43m    \u001b[49m\u001b[43mstrategy\u001b[49m\u001b[38;5;241;43m=\u001b[39;49m\u001b[43mstrategy\u001b[49m\u001b[43m,\u001b[49m\u001b[43m  \u001b[49m\u001b[38;5;66;43;03m# the strategy that will orchestrate the whole FL pipeline\u001b[39;49;00m\n\u001b[1;32m     60\u001b[0m \u001b[43m    \u001b[49m\u001b[43mclient_resources\u001b[49m\u001b[38;5;241;43m=\u001b[39;49m\u001b[43mclient_resources\u001b[49m\n\u001b[1;32m     61\u001b[0m \u001b[43m)\u001b[49m\n",
      "File \u001b[0;32m~/anaconda3/lib/python3.10/site-packages/flwr/simulation/app.py:211\u001b[0m, in \u001b[0;36mstart_simulation\u001b[0;34m(client_fn, num_clients, clients_ids, client_resources, server, config, strategy, client_manager, ray_init_args, keep_initialised, actor_type, actor_kwargs, actor_scheduling)\u001b[0m\n\u001b[1;32m    208\u001b[0m     ray\u001b[38;5;241m.\u001b[39mshutdown()\n\u001b[1;32m    210\u001b[0m \u001b[38;5;66;03m# Initialize Ray\u001b[39;00m\n\u001b[0;32m--> 211\u001b[0m \u001b[43mray\u001b[49m\u001b[38;5;241;43m.\u001b[39;49m\u001b[43minit\u001b[49m\u001b[43m(\u001b[49m\u001b[38;5;241;43m*\u001b[39;49m\u001b[38;5;241;43m*\u001b[39;49m\u001b[43mray_init_args\u001b[49m\u001b[43m)\u001b[49m\n\u001b[1;32m    212\u001b[0m cluster_resources \u001b[38;5;241m=\u001b[39m ray\u001b[38;5;241m.\u001b[39mcluster_resources()\n\u001b[1;32m    213\u001b[0m log(\n\u001b[1;32m    214\u001b[0m     INFO,\n\u001b[1;32m    215\u001b[0m     \u001b[38;5;124m\"\u001b[39m\u001b[38;5;124mFlower VCE: Ray initialized with resources: \u001b[39m\u001b[38;5;132;01m%s\u001b[39;00m\u001b[38;5;124m\"\u001b[39m,\n\u001b[1;32m    216\u001b[0m     cluster_resources,\n\u001b[1;32m    217\u001b[0m )\n",
      "File \u001b[0;32m~/anaconda3/lib/python3.10/site-packages/ray/_private/client_mode_hook.py:103\u001b[0m, in \u001b[0;36mclient_mode_hook.<locals>.wrapper\u001b[0;34m(*args, **kwargs)\u001b[0m\n\u001b[1;32m    101\u001b[0m     \u001b[38;5;28;01mif\u001b[39;00m func\u001b[38;5;241m.\u001b[39m\u001b[38;5;18m__name__\u001b[39m \u001b[38;5;241m!=\u001b[39m \u001b[38;5;124m\"\u001b[39m\u001b[38;5;124minit\u001b[39m\u001b[38;5;124m\"\u001b[39m \u001b[38;5;129;01mor\u001b[39;00m is_client_mode_enabled_by_default:\n\u001b[1;32m    102\u001b[0m         \u001b[38;5;28;01mreturn\u001b[39;00m \u001b[38;5;28mgetattr\u001b[39m(ray, func\u001b[38;5;241m.\u001b[39m\u001b[38;5;18m__name__\u001b[39m)(\u001b[38;5;241m*\u001b[39margs, \u001b[38;5;241m*\u001b[39m\u001b[38;5;241m*\u001b[39mkwargs)\n\u001b[0;32m--> 103\u001b[0m \u001b[38;5;28;01mreturn\u001b[39;00m \u001b[43mfunc\u001b[49m\u001b[43m(\u001b[49m\u001b[38;5;241;43m*\u001b[39;49m\u001b[43margs\u001b[49m\u001b[43m,\u001b[49m\u001b[43m \u001b[49m\u001b[38;5;241;43m*\u001b[39;49m\u001b[38;5;241;43m*\u001b[39;49m\u001b[43mkwargs\u001b[49m\u001b[43m)\u001b[49m\n",
      "File \u001b[0;32m~/anaconda3/lib/python3.10/site-packages/ray/_private/worker.py:1514\u001b[0m, in \u001b[0;36minit\u001b[0;34m(address, num_cpus, num_gpus, resources, labels, object_store_memory, local_mode, ignore_reinit_error, include_dashboard, dashboard_host, dashboard_port, job_config, configure_logging, logging_level, logging_format, log_to_driver, namespace, runtime_env, storage, **kwargs)\u001b[0m\n\u001b[1;32m   1480\u001b[0m     ray_params \u001b[38;5;241m=\u001b[39m ray\u001b[38;5;241m.\u001b[39m_private\u001b[38;5;241m.\u001b[39mparameter\u001b[38;5;241m.\u001b[39mRayParams(\n\u001b[1;32m   1481\u001b[0m         node_ip_address\u001b[38;5;241m=\u001b[39mnode_ip_address,\n\u001b[1;32m   1482\u001b[0m         raylet_ip_address\u001b[38;5;241m=\u001b[39mraylet_ip_address,\n\u001b[0;32m   (...)\u001b[0m\n\u001b[1;32m   1508\u001b[0m         node_name\u001b[38;5;241m=\u001b[39m_node_name,\n\u001b[1;32m   1509\u001b[0m     )\n\u001b[1;32m   1510\u001b[0m     \u001b[38;5;66;03m# Start the Ray processes. We set shutdown_at_exit=False because we\u001b[39;00m\n\u001b[1;32m   1511\u001b[0m     \u001b[38;5;66;03m# shutdown the node in the ray.shutdown call that happens in the atexit\u001b[39;00m\n\u001b[1;32m   1512\u001b[0m     \u001b[38;5;66;03m# handler. We still spawn a reaper process in case the atexit handler\u001b[39;00m\n\u001b[1;32m   1513\u001b[0m     \u001b[38;5;66;03m# isn't called.\u001b[39;00m\n\u001b[0;32m-> 1514\u001b[0m     _global_node \u001b[38;5;241m=\u001b[39m \u001b[43mray\u001b[49m\u001b[38;5;241;43m.\u001b[39;49m\u001b[43m_private\u001b[49m\u001b[38;5;241;43m.\u001b[39;49m\u001b[43mnode\u001b[49m\u001b[38;5;241;43m.\u001b[39;49m\u001b[43mNode\u001b[49m\u001b[43m(\u001b[49m\n\u001b[1;32m   1515\u001b[0m \u001b[43m        \u001b[49m\u001b[43mhead\u001b[49m\u001b[38;5;241;43m=\u001b[39;49m\u001b[38;5;28;43;01mTrue\u001b[39;49;00m\u001b[43m,\u001b[49m\n\u001b[1;32m   1516\u001b[0m \u001b[43m        \u001b[49m\u001b[43mshutdown_at_exit\u001b[49m\u001b[38;5;241;43m=\u001b[39;49m\u001b[38;5;28;43;01mFalse\u001b[39;49;00m\u001b[43m,\u001b[49m\n\u001b[1;32m   1517\u001b[0m \u001b[43m        \u001b[49m\u001b[43mspawn_reaper\u001b[49m\u001b[38;5;241;43m=\u001b[39;49m\u001b[38;5;28;43;01mTrue\u001b[39;49;00m\u001b[43m,\u001b[49m\n\u001b[1;32m   1518\u001b[0m \u001b[43m        \u001b[49m\u001b[43mray_params\u001b[49m\u001b[38;5;241;43m=\u001b[39;49m\u001b[43mray_params\u001b[49m\u001b[43m,\u001b[49m\n\u001b[1;32m   1519\u001b[0m \u001b[43m    \u001b[49m\u001b[43m)\u001b[49m\n\u001b[1;32m   1520\u001b[0m \u001b[38;5;28;01melse\u001b[39;00m:\n\u001b[1;32m   1521\u001b[0m     \u001b[38;5;66;03m# In this case, we are connecting to an existing cluster.\u001b[39;00m\n\u001b[1;32m   1522\u001b[0m     \u001b[38;5;28;01mif\u001b[39;00m num_cpus \u001b[38;5;129;01mis\u001b[39;00m \u001b[38;5;129;01mnot\u001b[39;00m \u001b[38;5;28;01mNone\u001b[39;00m \u001b[38;5;129;01mor\u001b[39;00m num_gpus \u001b[38;5;129;01mis\u001b[39;00m \u001b[38;5;129;01mnot\u001b[39;00m \u001b[38;5;28;01mNone\u001b[39;00m:\n",
      "File \u001b[0;32m~/anaconda3/lib/python3.10/site-packages/ray/_private/node.py:287\u001b[0m, in \u001b[0;36mNode.__init__\u001b[0;34m(self, ray_params, head, shutdown_at_exit, spawn_reaper, connect_only, default_worker)\u001b[0m\n\u001b[1;32m    285\u001b[0m \u001b[38;5;66;03m# Start processes.\u001b[39;00m\n\u001b[1;32m    286\u001b[0m \u001b[38;5;28;01mif\u001b[39;00m head:\n\u001b[0;32m--> 287\u001b[0m     \u001b[38;5;28;43mself\u001b[39;49m\u001b[38;5;241;43m.\u001b[39;49m\u001b[43mstart_head_processes\u001b[49m\u001b[43m(\u001b[49m\u001b[43m)\u001b[49m\n\u001b[1;32m    289\u001b[0m \u001b[38;5;28;01mif\u001b[39;00m \u001b[38;5;129;01mnot\u001b[39;00m connect_only:\n\u001b[1;32m    290\u001b[0m     \u001b[38;5;28mself\u001b[39m\u001b[38;5;241m.\u001b[39mstart_ray_processes()\n",
      "File \u001b[0;32m~/anaconda3/lib/python3.10/site-packages/ray/_private/node.py:1181\u001b[0m, in \u001b[0;36mNode.start_head_processes\u001b[0;34m(self)\u001b[0m\n\u001b[1;32m   1178\u001b[0m     include_dashboard \u001b[38;5;241m=\u001b[39m \u001b[38;5;28;01mTrue\u001b[39;00m\n\u001b[1;32m   1179\u001b[0m     raise_on_api_server_failure \u001b[38;5;241m=\u001b[39m \u001b[38;5;28;01mTrue\u001b[39;00m\n\u001b[0;32m-> 1181\u001b[0m \u001b[38;5;28;43mself\u001b[39;49m\u001b[38;5;241;43m.\u001b[39;49m\u001b[43mstart_api_server\u001b[49m\u001b[43m(\u001b[49m\n\u001b[1;32m   1182\u001b[0m \u001b[43m    \u001b[49m\u001b[43minclude_dashboard\u001b[49m\u001b[38;5;241;43m=\u001b[39;49m\u001b[43minclude_dashboard\u001b[49m\u001b[43m,\u001b[49m\n\u001b[1;32m   1183\u001b[0m \u001b[43m    \u001b[49m\u001b[43mraise_on_failure\u001b[49m\u001b[38;5;241;43m=\u001b[39;49m\u001b[43mraise_on_api_server_failure\u001b[49m\u001b[43m,\u001b[49m\n\u001b[1;32m   1184\u001b[0m \u001b[43m\u001b[49m\u001b[43m)\u001b[49m\n",
      "File \u001b[0;32m~/anaconda3/lib/python3.10/site-packages/ray/_private/node.py:931\u001b[0m, in \u001b[0;36mNode.start_api_server\u001b[0;34m(self, include_dashboard, raise_on_failure)\u001b[0m\n\u001b[1;32m    926\u001b[0m \u001b[38;5;66;03m# Only redirect logs to .err. .err file is only useful when the\u001b[39;00m\n\u001b[1;32m    927\u001b[0m \u001b[38;5;66;03m# component has an unexpected output to stdout/stderr.\u001b[39;00m\n\u001b[1;32m    928\u001b[0m _, stderr_file \u001b[38;5;241m=\u001b[39m \u001b[38;5;28mself\u001b[39m\u001b[38;5;241m.\u001b[39mget_log_file_handles(\n\u001b[1;32m    929\u001b[0m     \u001b[38;5;124m\"\u001b[39m\u001b[38;5;124mdashboard\u001b[39m\u001b[38;5;124m\"\u001b[39m, unique\u001b[38;5;241m=\u001b[39m\u001b[38;5;28;01mTrue\u001b[39;00m, create_out\u001b[38;5;241m=\u001b[39m\u001b[38;5;28;01mFalse\u001b[39;00m\n\u001b[1;32m    930\u001b[0m )\n\u001b[0;32m--> 931\u001b[0m \u001b[38;5;28mself\u001b[39m\u001b[38;5;241m.\u001b[39m_webui_url, process_info \u001b[38;5;241m=\u001b[39m \u001b[43mray\u001b[49m\u001b[38;5;241;43m.\u001b[39;49m\u001b[43m_private\u001b[49m\u001b[38;5;241;43m.\u001b[39;49m\u001b[43mservices\u001b[49m\u001b[38;5;241;43m.\u001b[39;49m\u001b[43mstart_api_server\u001b[49m\u001b[43m(\u001b[49m\n\u001b[1;32m    932\u001b[0m \u001b[43m    \u001b[49m\u001b[43minclude_dashboard\u001b[49m\u001b[43m,\u001b[49m\n\u001b[1;32m    933\u001b[0m \u001b[43m    \u001b[49m\u001b[43mraise_on_failure\u001b[49m\u001b[43m,\u001b[49m\n\u001b[1;32m    934\u001b[0m \u001b[43m    \u001b[49m\u001b[38;5;28;43mself\u001b[39;49m\u001b[38;5;241;43m.\u001b[39;49m\u001b[43m_ray_params\u001b[49m\u001b[38;5;241;43m.\u001b[39;49m\u001b[43mdashboard_host\u001b[49m\u001b[43m,\u001b[49m\n\u001b[1;32m    935\u001b[0m \u001b[43m    \u001b[49m\u001b[38;5;28;43mself\u001b[39;49m\u001b[38;5;241;43m.\u001b[39;49m\u001b[43mgcs_address\u001b[49m\u001b[43m,\u001b[49m\n\u001b[1;32m    936\u001b[0m \u001b[43m    \u001b[49m\u001b[38;5;28;43mself\u001b[39;49m\u001b[38;5;241;43m.\u001b[39;49m\u001b[43m_node_ip_address\u001b[49m\u001b[43m,\u001b[49m\n\u001b[1;32m    937\u001b[0m \u001b[43m    \u001b[49m\u001b[38;5;28;43mself\u001b[39;49m\u001b[38;5;241;43m.\u001b[39;49m\u001b[43m_temp_dir\u001b[49m\u001b[43m,\u001b[49m\n\u001b[1;32m    938\u001b[0m \u001b[43m    \u001b[49m\u001b[38;5;28;43mself\u001b[39;49m\u001b[38;5;241;43m.\u001b[39;49m\u001b[43m_logs_dir\u001b[49m\u001b[43m,\u001b[49m\n\u001b[1;32m    939\u001b[0m \u001b[43m    \u001b[49m\u001b[38;5;28;43mself\u001b[39;49m\u001b[38;5;241;43m.\u001b[39;49m\u001b[43m_session_dir\u001b[49m\u001b[43m,\u001b[49m\n\u001b[1;32m    940\u001b[0m \u001b[43m    \u001b[49m\u001b[43mport\u001b[49m\u001b[38;5;241;43m=\u001b[39;49m\u001b[38;5;28;43mself\u001b[39;49m\u001b[38;5;241;43m.\u001b[39;49m\u001b[43m_ray_params\u001b[49m\u001b[38;5;241;43m.\u001b[39;49m\u001b[43mdashboard_port\u001b[49m\u001b[43m,\u001b[49m\n\u001b[1;32m    941\u001b[0m \u001b[43m    \u001b[49m\u001b[43mdashboard_grpc_port\u001b[49m\u001b[38;5;241;43m=\u001b[39;49m\u001b[38;5;28;43mself\u001b[39;49m\u001b[38;5;241;43m.\u001b[39;49m\u001b[43m_ray_params\u001b[49m\u001b[38;5;241;43m.\u001b[39;49m\u001b[43mdashboard_grpc_port\u001b[49m\u001b[43m,\u001b[49m\n\u001b[1;32m    942\u001b[0m \u001b[43m    \u001b[49m\u001b[43mfate_share\u001b[49m\u001b[38;5;241;43m=\u001b[39;49m\u001b[38;5;28;43mself\u001b[39;49m\u001b[38;5;241;43m.\u001b[39;49m\u001b[43mkernel_fate_share\u001b[49m\u001b[43m,\u001b[49m\n\u001b[1;32m    943\u001b[0m \u001b[43m    \u001b[49m\u001b[43mmax_bytes\u001b[49m\u001b[38;5;241;43m=\u001b[39;49m\u001b[38;5;28;43mself\u001b[39;49m\u001b[38;5;241;43m.\u001b[39;49m\u001b[43mmax_bytes\u001b[49m\u001b[43m,\u001b[49m\n\u001b[1;32m    944\u001b[0m \u001b[43m    \u001b[49m\u001b[43mbackup_count\u001b[49m\u001b[38;5;241;43m=\u001b[39;49m\u001b[38;5;28;43mself\u001b[39;49m\u001b[38;5;241;43m.\u001b[39;49m\u001b[43mbackup_count\u001b[49m\u001b[43m,\u001b[49m\n\u001b[1;32m    945\u001b[0m \u001b[43m    \u001b[49m\u001b[43mredirect_logging\u001b[49m\u001b[38;5;241;43m=\u001b[39;49m\u001b[38;5;28;43mself\u001b[39;49m\u001b[38;5;241;43m.\u001b[39;49m\u001b[43mshould_redirect_logs\u001b[49m\u001b[43m(\u001b[49m\u001b[43m)\u001b[49m\u001b[43m,\u001b[49m\n\u001b[1;32m    946\u001b[0m \u001b[43m    \u001b[49m\u001b[43mstdout_file\u001b[49m\u001b[38;5;241;43m=\u001b[39;49m\u001b[43mstderr_file\u001b[49m\u001b[43m,\u001b[49m\n\u001b[1;32m    947\u001b[0m \u001b[43m    \u001b[49m\u001b[43mstderr_file\u001b[49m\u001b[38;5;241;43m=\u001b[39;49m\u001b[43mstderr_file\u001b[49m\u001b[43m,\u001b[49m\n\u001b[1;32m    948\u001b[0m \u001b[43m\u001b[49m\u001b[43m)\u001b[49m\n\u001b[1;32m    949\u001b[0m \u001b[38;5;28;01massert\u001b[39;00m ray_constants\u001b[38;5;241m.\u001b[39mPROCESS_TYPE_DASHBOARD \u001b[38;5;129;01mnot\u001b[39;00m \u001b[38;5;129;01min\u001b[39;00m \u001b[38;5;28mself\u001b[39m\u001b[38;5;241m.\u001b[39mall_processes\n\u001b[1;32m    950\u001b[0m \u001b[38;5;28;01mif\u001b[39;00m process_info \u001b[38;5;129;01mis\u001b[39;00m \u001b[38;5;129;01mnot\u001b[39;00m \u001b[38;5;28;01mNone\u001b[39;00m:\n",
      "File \u001b[0;32m~/anaconda3/lib/python3.10/site-packages/ray/_private/services.py:1198\u001b[0m, in \u001b[0;36mstart_api_server\u001b[0;34m(include_dashboard, raise_on_failure, host, gcs_address, node_ip_address, temp_dir, logdir, session_dir, port, dashboard_grpc_port, fate_share, max_bytes, backup_count, redirect_logging, stdout_file, stderr_file)\u001b[0m\n\u001b[1;32m   1195\u001b[0m         \u001b[38;5;28;01mbreak\u001b[39;00m\n\u001b[1;32m   1196\u001b[0m     \u001b[38;5;66;03m# This is often on the critical path of ray.init() and ray start,\u001b[39;00m\n\u001b[1;32m   1197\u001b[0m     \u001b[38;5;66;03m# so we need to poll often.\u001b[39;00m\n\u001b[0;32m-> 1198\u001b[0m     \u001b[43mtime\u001b[49m\u001b[38;5;241;43m.\u001b[39;49m\u001b[43msleep\u001b[49m\u001b[43m(\u001b[49m\u001b[38;5;241;43m0.1\u001b[39;49m\u001b[43m)\u001b[49m\n\u001b[1;32m   1200\u001b[0m \u001b[38;5;66;03m# Dashboard couldn't be started.\u001b[39;00m\n\u001b[1;32m   1201\u001b[0m \u001b[38;5;28;01mif\u001b[39;00m dashboard_url \u001b[38;5;129;01mis\u001b[39;00m \u001b[38;5;28;01mNone\u001b[39;00m:\n",
      "\u001b[0;31mKeyboardInterrupt\u001b[0m: "
     ]
    }
   ],
   "source": [
    "import csv\n",
    "import os\n",
    "import glob\n",
    "\n",
    "from typing import List, Union, Optional, Tuple, Dict\n",
    "import flwr as fl\n",
    "from flwr.server.client_proxy import ClientProxy\n",
    "from flwr.common import FitRes, Parameters, Scalar\n",
    "\n",
    "net = Net(num_classes=num_classes).to(device)\n",
    "class SaveModelStrategy(fl.server.strategy.FedAvg):\n",
    "    def aggregate_fit(\n",
    "        self,\n",
    "        server_round: int,\n",
    "        results: List[Tuple[fl.server.client_proxy.ClientProxy, fl.common.FitRes]],\n",
    "        failures: List[Union[Tuple[ClientProxy, FitRes], BaseException]],\n",
    "    ) -> Tuple[Optional[Parameters], Dict[str, Scalar]]:\n",
    "        \"\"\"Aggregate model weights using weighted average and store checkpoint\"\"\"\n",
    "\n",
    "        # Call aggregate_fit from base class (FedAvg) to aggregate parameters and metrics\n",
    "        aggregated_parameters, aggregated_metrics = super().aggregate_fit(server_round, results, failures)\n",
    "\n",
    "        if aggregated_parameters is not None:\n",
    "            print(f\"Saving round {server_round} aggregated_parameters...\")\n",
    "\n",
    "            # Convert `Parameters` to `List[np.ndarray]`\n",
    "            aggregated_ndarrays: List[np.ndarray] = fl.common.parameters_to_ndarrays(aggregated_parameters)\n",
    "\n",
    "            # Convert `List[np.ndarray]` to PyTorch`state_dict`\n",
    "            params_dict = zip(net.state_dict().keys(), aggregated_ndarrays)\n",
    "            state_dict = OrderedDict({k: torch.tensor(v) for k, v in params_dict})\n",
    "            net.load_state_dict(state_dict, strict=True)\n",
    "\n",
    "            # Save the model\n",
    "            save_dir = \"saved_model_rounds\"\n",
    "            os.makedirs(save_dir, exist_ok=True)\n",
    "\n",
    "            # Save the model in the specified directory\n",
    "            save_path = os.path.join(save_dir, f\"model_round_{server_round}.pth\")\n",
    "            torch.save(net.state_dict(), save_path)\n",
    "            print(f\"Model saved at {save_path}\")\n",
    "\n",
    "\n",
    "        return aggregated_parameters, aggregated_metrics\n",
    "strategy = SaveModelStrategy(\n",
    "    #fraction_fit=0.1,  # let's sample 10% of the client each round to do local training\n",
    "    #fraction_evaluate=0.1,  # after each round, let's sample 20% of the clients to asses how well the global model is doing\n",
    "    min_fit_clients=NUM_CLIENTS,\n",
    "    min_evaluate_clients=NUM_CLIENTS,\n",
    "    min_available_clients=NUM_CLIENTS,\n",
    "    evaluate_fn=get_evaluate_fn(testloader),\n",
    ")  # a callback to a function that the strategy can execute to evaluate the state of the global model on a centralised dataset\n",
    "client_resources = {\"num_cpus\": 3, \"num_gpus\": 0.05}\n",
    "\n",
    "history = fl.simulation.start_simulation(\n",
    "    client_fn=client_fn_callback,  # a callback to construct a client\n",
    "    num_clients=NUM_CLIENTS,  # total number of clients in the experiment\n",
    "    config=fl.server.ServerConfig(num_rounds=NUM_ROUNDS),  # let's run for 10 rounds\n",
    "    strategy=strategy,  # the strategy that will orchestrate the whole FL pipeline\n",
    "    client_resources=client_resources\n",
    ")\n",
    "\n"
   ]
  },
  {
   "cell_type": "code",
   "execution_count": 57,
   "metadata": {},
   "outputs": [],
   "source": [
    "# Loading saved model\n",
    "# Takes last round in this case"
   ]
  },
  {
   "cell_type": "code",
   "execution_count": 42,
   "metadata": {},
   "outputs": [],
   "source": [
    "net = Net(num_classes=num_classes).to(device)"
   ]
  },
  {
   "cell_type": "code",
   "execution_count": null,
   "metadata": {},
   "outputs": [],
   "source": [
    "import glob\n",
    "import os \n",
    "# list_of_files = [fname for fname in glob.glob(\"./saved_model_rounds/model_round_*\")]\n",
    "list_of_files = [fname for fname in glob.glob(\"./saved_model_CANCER_5C/model_round_*\")]\n",
    "latest_round_file = max(list_of_files, key=os.path.getctime)\n",
    "print(\"Loading pre-trained model from: \", latest_round_file)\n",
    "state_dict = torch.load(latest_round_file) #load saved model round\n",
    "net.load_state_dict(state_dict)\n",
    "net.to(device) #sends model to device\n",
    "state_dict_ndarrays = [v.cpu().numpy() for v in net.state_dict().values()]\n",
    "parameters = fl.common.ndarrays_to_parameters(state_dict_ndarrays) # model weights for FL"
   ]
  },
  {
   "cell_type": "code",
   "execution_count": 45,
   "metadata": {},
   "outputs": [],
   "source": [
    "# Predicting"
   ]
  },
  {
   "cell_type": "code",
   "execution_count": 66,
   "metadata": {},
   "outputs": [
    {
     "name": "stdout",
     "output_type": "stream",
     "text": [
      "The train accuracy was 0.662\n",
      "The test accuracy was 0.781\n"
     ]
    }
   ],
   "source": [
    "net.to('cpu')\n",
    "model = net.eval()\n",
    "\n",
    "with torch.no_grad():\n",
    "    y_hat = model(X_train_tensor)\n",
    "train_predicted = torch.max(y_hat, 1)[1]\n",
    "\n",
    "with torch.no_grad():\n",
    "    y_hat = model(X_test_tensor)\n",
    "test_predicted = torch.max(y_hat, 1)[1]\n",
    "\n",
    "print(f\"The train accuracy was {accuracy_score(train_predicted, y_train_tensor):.3f}\")\n",
    "print(f\"The test accuracy was {accuracy_score(test_predicted, y_test_tensor):.3f}\")\n"
   ]
  },
  {
   "cell_type": "markdown",
   "metadata": {},
   "source": [
    "## Loop through saved models in directory and predict"
   ]
  },
  {
   "cell_type": "code",
   "execution_count": 43,
   "metadata": {},
   "outputs": [
    {
     "name": "stdout",
     "output_type": "stream",
     "text": [
      "Loading pre-trained model from: ./saved_model_CANCER_5C/model_round_144_pca_cancer.pth\n",
      "Model: model_round_144_pca_cancer.pth - Train Accuracy: 0.890, Test Accuracy: 0.874\n"
     ]
    }
   ],
   "source": [
    "import glob\n",
    "import os\n",
    "import torch\n",
    "from sklearn.metrics import accuracy_score\n",
    "\n",
    "net = Net(num_classes=num_classes).to(device)\n",
    "\n",
    "# Define the directory where the saved models are located\n",
    "model_directory = \"./saved_model_CANCER_5C/\"\n",
    "\n",
    "# Get a list of all saved model files\n",
    "list_of_files = [fname for fname in glob.glob(os.path.join(model_directory, \"model_round_*\"))]\n",
    "\n",
    "# Loop through each saved model file and make predictions\n",
    "for model_file in list_of_files:\n",
    "    print(f\"Loading pre-trained model from: {model_file}\")\n",
    "    \n",
    "    # Load the saved model state\n",
    "    state_dict = torch.load(model_file, map_location=torch.device('cpu'))  # Ensure the model is loaded on CPU\n",
    "    net.load_state_dict(state_dict)\n",
    "    net.to('cpu')  # Ensure the model is on CPU\n",
    "    model = net.eval()\n",
    "    \n",
    "    # Convert state_dict to parameters for FL (if needed)\n",
    "    state_dict_ndarrays = [v.cpu().numpy() for v in net.state_dict().values()]\n",
    "    parameters = fl.common.ndarrays_to_parameters(state_dict_ndarrays)  # Model weights for FL\n",
    "    \n",
    "    # Send model to CPU and set to evaluation mode\n",
    "    net.to('cpu')\n",
    "    model = net.eval()\n",
    "    \n",
    "    # Predict on training data\n",
    "    with torch.no_grad():\n",
    "        y_hat_train = model(X_train_tensor)\n",
    "    train_predicted = torch.max(y_hat_train, 1)[1]\n",
    "    \n",
    "    # Predict on test data\n",
    "    with torch.no_grad():\n",
    "        y_hat_test = model(X_test_tensor)\n",
    "    test_predicted = torch.max(y_hat_test, 1)[1]\n",
    "    \n",
    "    # Calculate and print accuracy\n",
    "    train_accuracy = accuracy_score(train_predicted, y_train_tensor)\n",
    "    test_accuracy = accuracy_score(test_predicted, y_test_tensor)\n",
    "    print(f\"Model: {os.path.basename(model_file)} - Train Accuracy: {train_accuracy:.3f}, Test Accuracy: {test_accuracy:.3f}\")\n"
   ]
  },
  {
   "cell_type": "code",
   "execution_count": null,
   "metadata": {},
   "outputs": [],
   "source": [
    "# Run on saved parameters in FL by calling it again"
   ]
  },
  {
   "cell_type": "code",
   "execution_count": null,
   "metadata": {},
   "outputs": [],
   "source": [
    "from flwr.server.strategy import DifferentialPrivacyClientSideFixedClipping\n",
    "from flwr.server.strategy import DifferentialPrivacyServerSideFixedClipping\n",
    "\n",
    "from flwr.server.strategy import DifferentialPrivacyClientSideAdaptiveClipping\n",
    "from flwr.server.strategy import DifferentialPrivacyServerSideAdaptiveClipping\n",
    "\n",
    "from flwr.client.mod import fixedclipping_mod, adaptiveclipping_mod\n",
    "\n",
    "# now we can define the strategy\n",
    "strategy = fl.server.strategy.FedAvg(\n",
    "    min_fit_clients=NUM_CLIENTS,\n",
    "    min_evaluate_clients=NUM_CLIENTS,\n",
    "    min_available_clients=NUM_CLIENTS,\n",
    "    evaluate_fn=get_evaluate_fn(testloader),\n",
    "    initial_parameters=parameters #SAVED MODEL HERE\n",
    ")\n",
    "\n",
    "client_resources = {\"num_cpus\": 13, \"num_gpus\": 0.2}\n",
    "\n",
    "history = fl.simulation.start_simulation(\n",
    "    client_fn=client_fn_callback,  # a callback to construct a client\n",
    "    num_clients=NUM_CLIENTS,  # total number of clients in the experiment\n",
    "    config=fl.server.ServerConfig(num_rounds=NUM_ROUNDS),  # let's run for 10 rounds\n",
    "    strategy=strategy,  # the strategy that will orchestrate the whole FL pipeline\n",
    "    client_resources=client_resources\n",
    ")\n"
   ]
  }
 ],
 "metadata": {
  "accelerator": "GPU",
  "colab": {
   "gpuType": "T4",
   "provenance": []
  },
  "kernelspec": {
   "display_name": "Python 3 (ipykernel)",
   "language": "python",
   "name": "python3"
  },
  "language_info": {
   "codemirror_mode": {
    "name": "ipython",
    "version": 3
   },
   "file_extension": ".py",
   "mimetype": "text/x-python",
   "name": "python",
   "nbconvert_exporter": "python",
   "pygments_lexer": "ipython3",
   "version": "3.10.14"
  }
 },
 "nbformat": 4,
 "nbformat_minor": 4
}
